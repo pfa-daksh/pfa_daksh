{
 "cells": [
  {
   "cell_type": "code",
   "execution_count": 7,
   "id": "dbdaf2a0",
   "metadata": {},
   "outputs": [],
   "source": [
    "#DAKSH KAPOOR\n",
    "#ROLL NO: 424/2021\n",
    "#PRACTICE EXERCISE 3 (Lists)"
   ]
  },
  {
   "cell_type": "code",
   "execution_count": 6,
   "id": "cbf30c2e",
   "metadata": {},
   "outputs": [
    {
     "name": "stdout",
     "output_type": "stream",
     "text": [
      "Enter an element: 12\n",
      "Enter y to add to list: y\n",
      "Enter an element: 35\n",
      "Enter y to add to list: y\n",
      "Enter an element: 9\n",
      "Enter y to add to list: y\n",
      "Enter an element: 56\n",
      "Enter y to add to list: y\n",
      "Enter an element: 24\n",
      "Enter y to add to list: n\n",
      "['24', '35', '9', '56', '12']\n"
     ]
    }
   ],
   "source": [
    "#Q1\n",
    "a = []\n",
    "z= True\n",
    "while z:\n",
    "    a.append(input(\"Enter an element: \"))\n",
    "    b=input(\"Enter y to add to list: \")\n",
    "    if b != \"y\":\n",
    "        z=False\n",
    "c=len(a)\n",
    "d=a[0]\n",
    "a[0]=a[c-1]\n",
    "a[c-1]=d\n",
    "print(\"So the desired output is as follows:\\t\", a[:])"
   ]
  },
  {
   "cell_type": "code",
   "execution_count": 8,
   "id": "56bf419b",
   "metadata": {},
   "outputs": [
    {
     "name": "stdout",
     "output_type": "stream",
     "text": [
      "Length of list is:  5\n"
     ]
    }
   ],
   "source": [
    "#Q2\n",
    "e = [1, 4, 5, 7, 8]\n",
    "print(\"Length of list is: \", len(e))"
   ]
  },
  {
   "cell_type": "code",
   "execution_count": 9,
   "id": "9477ee0a",
   "metadata": {},
   "outputs": [
    {
     "name": "stdout",
     "output_type": "stream",
     "text": [
      "Enter an element: Geeks\n",
      "Enter y to add to list: y\n",
      "Enter an element: Are\n",
      "Enter y to add to list: y\n",
      "Enter an element: For\n",
      "Enter y to add to list: y\n",
      "Enter an element: Geeks\n",
      "Enter y to add to list: n\n",
      "elements in list as as follows:  ['Geeks', 'Are', 'For', 'Geeks']\n",
      "the length of list is:  4\n"
     ]
    }
   ],
   "source": [
    "#Q3\n",
    "f=[]\n",
    "z= True\n",
    "while z:\n",
    "    f.append(input(\"Enter an element: \"))\n",
    "    b=input(\"Enter y to add to list: \")\n",
    "    if b != \"y\":\n",
    "        z=False\n",
    "print(\"elements in list as as follows: \", f[:])\n",
    "print(\"the length of list is: \", len(f))"
   ]
  },
  {
   "cell_type": "code",
   "execution_count": 10,
   "id": "df6a2379",
   "metadata": {},
   "outputs": [
    {
     "name": "stdout",
     "output_type": "stream",
     "text": [
      "Enter 1st integer to compare: 12\n",
      "Enter 2nd integer to compare: 56\n",
      "Maximum of entered values is:  56\n",
      "Minimum of entered values is:  12\n"
     ]
    }
   ],
   "source": [
    "#Q4\n",
    "g=int(input(\"Enter 1st integer to compare: \"))\n",
    "h=int(input(\"Enter 2nd integer to compare: \"))\n",
    "print(\"Maximum of entered values is: \", max(g,h))\n",
    "print(\"Minimum of entered values is: \", min(g,h))"
   ]
  }
 ],
 "metadata": {
  "kernelspec": {
   "display_name": "Python 3",
   "language": "python",
   "name": "python3"
  },
  "language_info": {
   "codemirror_mode": {
    "name": "ipython",
    "version": 3
   },
   "file_extension": ".py",
   "mimetype": "text/x-python",
   "name": "python",
   "nbconvert_exporter": "python",
   "pygments_lexer": "ipython3",
   "version": "3.8.8"
  }
 },
 "nbformat": 4,
 "nbformat_minor": 5
}
