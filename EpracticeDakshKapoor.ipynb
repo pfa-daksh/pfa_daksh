{
 "cells": [
  {
   "cell_type": "code",
   "execution_count": null,
   "id": "0f627d48",
   "metadata": {},
   "outputs": [],
   "source": [
    "#Begining of exercise 1"
   ]
  },
  {
   "cell_type": "code",
   "execution_count": 2,
   "id": "a219dfcb",
   "metadata": {},
   "outputs": [
    {
     "name": "stdout",
     "output_type": "stream",
     "text": [
      "0.625\n",
      "17\n"
     ]
    }
   ],
   "source": [
    "#1.divide 2. Addition\n",
    "print(5 / 8)\n",
    "print(7 +10)"
   ]
  },
  {
   "cell_type": "code",
   "execution_count": 3,
   "id": "03fd288b",
   "metadata": {},
   "outputs": [
    {
     "name": "stdout",
     "output_type": "stream",
     "text": [
      "10\n",
      "0\n",
      "15\n",
      "5.0\n",
      "4\n",
      "16\n"
     ]
    }
   ],
   "source": [
    "#3. BEDMAS = Arithmatic operations\n",
    "print(5+5)\n",
    "print(5-5)\n",
    "print(3*5)\n",
    "print(10/2)\n",
    "print(18%7)\n",
    "print(4 ** 2)"
   ]
  },
  {
   "cell_type": "code",
   "execution_count": 4,
   "id": "e03b98e5",
   "metadata": {},
   "outputs": [
    {
     "name": "stdout",
     "output_type": "stream",
     "text": [
      "Interest earned is  175.0\n",
      "Total amount in account  5175.0\n"
     ]
    }
   ],
   "source": [
    "#4a. Simple intrest\n",
    "p=5000\n",
    "r=0.007\n",
    "t=5\n",
    "s=p*r*t\n",
    "print(\"Interest earned is \", s)\n",
    "print(\"Total amount in account \", s + p)\n"
   ]
  },
  {
   "cell_type": "code",
   "execution_count": 7,
   "id": "d7f46ffc",
   "metadata": {},
   "outputs": [
    {
     "name": "stdout",
     "output_type": "stream",
     "text": [
      "time required for desired interest shall be:  7.0\n"
     ]
    }
   ],
   "source": [
    "#4b. time required for desired interest\n",
    "p=8000\n",
    "s=4872\n",
    "r=0.087\n",
    "print(\"time required for desired interest shall be: \", s/(p*r))"
   ]
  },
  {
   "cell_type": "code",
   "execution_count": 8,
   "id": "dac1de3e",
   "metadata": {},
   "outputs": [
    {
     "name": "stdout",
     "output_type": "stream",
     "text": [
      "Rate of interest offerred is:  6.4 %\n"
     ]
    }
   ],
   "source": [
    "#4C. Rate of interest offerred on simpke interest\n",
    "p=3000\n",
    "t=4\n",
    "s=768\n",
    "print(\"Rate of interest offerred is: \", (s/(p*t))*100,\"%\")"
   ]
  },
  {
   "cell_type": "code",
   "execution_count": 9,
   "id": "df8f0294",
   "metadata": {},
   "outputs": [
    {
     "name": "stdout",
     "output_type": "stream",
     "text": [
      "As per given question amount shall be:  194.87171000000012\n"
     ]
    }
   ],
   "source": [
    "#5. compounded interest\n",
    "print(\"As per given question amount shall be: \", 100*((1+(10/100))**7))"
   ]
  },
  {
   "cell_type": "code",
   "execution_count": null,
   "id": "dc47fedc",
   "metadata": {},
   "outputs": [],
   "source": [
    "#End of exercise 1\n",
    "#Begining of Exercise 2"
   ]
  },
  {
   "cell_type": "code",
   "execution_count": 11,
   "id": "fcdeffcc",
   "metadata": {},
   "outputs": [
    {
     "name": "stdout",
     "output_type": "stream",
     "text": [
      "100\n",
      "194.87171000000012\n"
     ]
    }
   ],
   "source": [
    "#Q1 - Variable saving\n",
    "savings=100\n",
    "print(savings)\n",
    "\n",
    "#Q2 - multiplier\n",
    "growth_multiplier = 1.1\n",
    "print(savings*growth_multiplier**7)"
   ]
  },
  {
   "cell_type": "code",
   "execution_count": 17,
   "id": "e5e68c59",
   "metadata": {},
   "outputs": [
    {
     "name": "stdout",
     "output_type": "stream",
     "text": [
      "compound interest\n",
      "True\n"
     ]
    },
    {
     "data": {
      "text/plain": [
       "str"
      ]
     },
     "execution_count": 17,
     "metadata": {},
     "output_type": "execute_result"
    }
   ],
   "source": [
    "#Q3 - creating strings\n",
    "desc = \"compound interest\"\n",
    "print(desc)\n",
    "profitable = \"True\"\n",
    "print(profitable)\n",
    "\n",
    "#Q4\n",
    "A = 10.7\n",
    "B = \"This is a python course\"\n",
    "C = \"False\"\n",
    "type(A)\n",
    "type(B)\n",
    "type(C)\n",
    "type(savings)\n",
    "type(growth_multiplier)\n",
    "type(profitable)"
   ]
  },
  {
   "cell_type": "code",
   "execution_count": 21,
   "id": "810c93f8",
   "metadata": {},
   "outputs": [
    {
     "name": "stdout",
     "output_type": "stream",
     "text": [
      "110.00000000000001\n",
      "compound interestcompound interest\n"
     ]
    }
   ],
   "source": [
    "#Q5\n",
    "savings=100\n",
    "growth_multiplier = 1.1\n",
    "year1=savings*growth_multiplier\n",
    "print(year1)\n",
    "type(year1)\n",
    "\n",
    "desc = \"compound interest\"\n",
    "doubledesc = desc + desc\n",
    "print(doubledesc)\n"
   ]
  },
  {
   "cell_type": "code",
   "execution_count": 23,
   "id": "559c4eb8",
   "metadata": {},
   "outputs": [
    {
     "name": "stdout",
     "output_type": "stream",
     "text": [
      "I started with $100and now have $194.87171000000012.Awesome!\n"
     ]
    }
   ],
   "source": [
    "#Q6\n",
    "savings = 100\n",
    "result = 100 * 1.10 ** 7\n",
    "savings = str(savings)\n",
    "result = str(result)\n",
    "print(\"I started with $\" + savings + \"and now have $\" + result + \".Awesome!\")"
   ]
  },
  {
   "cell_type": "code",
   "execution_count": 25,
   "id": "60513964",
   "metadata": {},
   "outputs": [
    {
     "name": "stdout",
     "output_type": "stream",
     "text": [
      "6.283\n"
     ]
    }
   ],
   "source": [
    "#Q7 str to float\n",
    "pi_string = \"3.1415\"\n",
    "pi_float = float(pi_string)\n",
    "double_pi = 2 * pi_float\n",
    "print(double_pi)"
   ]
  },
  {
   "cell_type": "code",
   "execution_count": 28,
   "id": "8c057b64",
   "metadata": {},
   "outputs": [
    {
     "name": "stdout",
     "output_type": "stream",
     "text": [
      "I can add integers, Like 5to strings\n",
      "I said Hey Hey Hey!\n"
     ]
    },
    {
     "ename": "TypeError",
     "evalue": "can only concatenate str (not \"int\") to str",
     "output_type": "error",
     "traceback": [
      "\u001b[1;31m---------------------------------------------------------------------------\u001b[0m",
      "\u001b[1;31mTypeError\u001b[0m                                 Traceback (most recent call last)",
      "\u001b[1;32m<ipython-input-28-c40fa69b03c6>\u001b[0m in \u001b[0;36m<module>\u001b[1;34m\u001b[0m\n\u001b[0;32m      2\u001b[0m \u001b[0mprint\u001b[0m\u001b[1;33m(\u001b[0m\u001b[1;34m\"I can add integers, Like \"\u001b[0m \u001b[1;33m+\u001b[0m \u001b[0mstr\u001b[0m\u001b[1;33m(\u001b[0m\u001b[1;36m5\u001b[0m\u001b[1;33m)\u001b[0m \u001b[1;33m+\u001b[0m \u001b[1;34m\"to strings\"\u001b[0m\u001b[1;33m)\u001b[0m\u001b[1;33m\u001b[0m\u001b[1;33m\u001b[0m\u001b[0m\n\u001b[0;32m      3\u001b[0m \u001b[0mprint\u001b[0m\u001b[1;33m(\u001b[0m\u001b[1;34m\"I said \"\u001b[0m \u001b[1;33m+\u001b[0m \u001b[1;33m(\u001b[0m\u001b[1;34m\"Hey \"\u001b[0m \u001b[1;33m*\u001b[0m \u001b[1;36m2\u001b[0m\u001b[1;33m)\u001b[0m \u001b[1;33m+\u001b[0m \u001b[1;34m\"Hey!\"\u001b[0m\u001b[1;33m)\u001b[0m\u001b[1;33m\u001b[0m\u001b[1;33m\u001b[0m\u001b[0m\n\u001b[1;32m----> 4\u001b[1;33m \u001b[0mprint\u001b[0m\u001b[1;33m(\u001b[0m\u001b[1;34m\"The correct answer to this multiple chice is an answer number \"\u001b[0m \u001b[1;33m+\u001b[0m \u001b[1;36m2\u001b[0m\u001b[1;33m)\u001b[0m\u001b[1;33m\u001b[0m\u001b[1;33m\u001b[0m\u001b[0m\n\u001b[0m\u001b[0;32m      5\u001b[0m \u001b[0mprint\u001b[0m\u001b[1;33m(\u001b[0m\u001b[1;32mTrue\u001b[0m \u001b[1;33m+\u001b[0m \u001b[1;32mFalse\u001b[0m\u001b[1;33m)\u001b[0m\u001b[1;33m\u001b[0m\u001b[1;33m\u001b[0m\u001b[0m\n",
      "\u001b[1;31mTypeError\u001b[0m: can only concatenate str (not \"int\") to str"
     ]
    }
   ],
   "source": [
    "#Q8\n",
    "print(\"I can add integers, Like \" + str(5) + \"to strings\")\n",
    "print(\"I said \" + (\"Hey \" * 2) + \"Hey!\")\n",
    "print(\"The correct answer to this multiple chice is an answer number \" + 2)\n",
    "print(True + False)\n",
    "#Error is in 4th line"
   ]
  },
  {
   "cell_type": "code",
   "execution_count": null,
   "id": "7169e6e8",
   "metadata": {},
   "outputs": [],
   "source": [
    "#end of exercise 2\n",
    "#begining of exercise 3"
   ]
  },
  {
   "cell_type": "code",
   "execution_count": 30,
   "id": "2e209ea2",
   "metadata": {},
   "outputs": [
    {
     "name": "stdout",
     "output_type": "stream",
     "text": [
      "enter a number: 45\n",
      "45.0  is an odd numer\n"
     ]
    }
   ],
   "source": [
    "#Q1\n",
    "n=float(input(\"enter a number: \"))\n",
    "if n%2 == 0:\n",
    "    print(n, \" is an even number\")\n",
    "else :\n",
    "    print(n, \" is an odd number\")"
   ]
  },
  {
   "cell_type": "code",
   "execution_count": 31,
   "id": "693d3afe",
   "metadata": {},
   "outputs": [
    {
     "name": "stdout",
     "output_type": "stream",
     "text": [
      "enter temperature in centigrade 45\n",
      "Temp after conversion to farenheit:  86.0\n"
     ]
    }
   ],
   "source": [
    "#Q2 conversion of temperature\n",
    "t=float(input(\"enter temperature in centigrade \"))\n",
    "print(\"Temp after conversion to farenheit: \", (30*1.8)+32)"
   ]
  },
  {
   "cell_type": "code",
   "execution_count": 32,
   "id": "22aa31b3",
   "metadata": {},
   "outputs": [
    {
     "name": "stdout",
     "output_type": "stream",
     "text": [
      "Area of triangle is:  34.662434637515005\n"
     ]
    }
   ],
   "source": [
    "#Q3 - area of a triangle\n",
    "import math\n",
    "a=4\n",
    "b=3\n",
    "c=6\n",
    "s=(a+b+c)/2\n",
    "Ar= s*(math.sqrt(s*(s-a)*(s-b)*(s-c)))\n",
    "print(\"Area of triangle is: \", Ar)"
   ]
  },
  {
   "cell_type": "code",
   "execution_count": 2,
   "id": "1ca67b97",
   "metadata": {},
   "outputs": [
    {
     "name": "stdout",
     "output_type": "stream",
     "text": [
      "enter radius os a circle: 4502\n",
      "circumferrence of a circle will be  28286.900252922496\n"
     ]
    }
   ],
   "source": [
    "#Q4\n",
    "import math\n",
    "r=float(input(\"enter radius os a circle: \"))\n",
    "print(\"circumferrence of a circle will be \", 2*r*(math.pi))"
   ]
  },
  {
   "cell_type": "code",
   "execution_count": 3,
   "id": "d62de1d0",
   "metadata": {},
   "outputs": [
    {
     "name": "stdout",
     "output_type": "stream",
     "text": [
      "Enter number to be checked: 78\n",
      "78  is not a multiple of 5\n"
     ]
    }
   ],
   "source": [
    "#Q5\n",
    "n=int(input(\"Enter number to be checked: \"))\n",
    "if n%5==0:\n",
    "    print(n, \" is a multiple of 5\")\n",
    "else :\n",
    "    print(n, \" is not a multiple of 5\")"
   ]
  },
  {
   "cell_type": "code",
   "execution_count": null,
   "id": "3eaff98a",
   "metadata": {},
   "outputs": [],
   "source": [
    "#End of all exercises for 24.08.2021"
   ]
  }
 ],
 "metadata": {
  "kernelspec": {
   "display_name": "Python 3",
   "language": "python",
   "name": "python3"
  },
  "language_info": {
   "codemirror_mode": {
    "name": "ipython",
    "version": 3
   },
   "file_extension": ".py",
   "mimetype": "text/x-python",
   "name": "python",
   "nbconvert_exporter": "python",
   "pygments_lexer": "ipython3",
   "version": "3.8.8"
  }
 },
 "nbformat": 4,
 "nbformat_minor": 5
}
